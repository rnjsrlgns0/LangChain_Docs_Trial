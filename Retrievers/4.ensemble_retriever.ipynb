{
 "cells": [
  {
   "cell_type": "code",
   "execution_count": 1,
   "metadata": {},
   "outputs": [
    {
     "name": "stdout",
     "output_type": "stream",
     "text": [
      "NAME                                                        \tID          \tSIZE  \tMODIFIED   \n",
      "nomic-embed-text:latest                                     \t0a109f422b47\t274 MB\t2 days ago\t\n",
      "spow12_Qwen2-7B-ko-Instruct-orpo-ver_2.0_wo_chat_Q8_0:latest\tb543bb00f540\t8.1 GB\t3 days ago\t\n",
      "spow12_Qwen2-7B-ko-Instruct-orpo-ver_2.0_wo_chat-F16:latest \t3713f91a3557\t15 GB \t3 days ago\t\n",
      "qwen2:1.5b-instruct-q8_0                                    \t908c3f054aac\t1.6 GB\t3 days ago\t\n",
      "qwen2:0.5b-instruct-q8_0                                    \t6b8eef84f0bf\t531 MB\t3 days ago\t\n",
      "llama3.1:8b-instruct-q8_0                                   \t9b90f0f552e7\t8.5 GB\t4 days ago\t\n",
      "joongi007_Ko-Qwen2-7B-Instruct-GGUF:latest                  \t7f2cc98a7ef4\t15 GB \t4 days ago\t\n",
      "QuantFactory_ko-gemma-2-9b-it-GGUF:latest                   \t8f110e7f7e3c\t9.8 GB\t4 days ago\t\n"
     ]
    }
   ],
   "source": [
    "!ollama list"
   ]
  },
  {
   "cell_type": "code",
   "execution_count": 4,
   "metadata": {},
   "outputs": [
    {
     "data": {
      "text/plain": [
       "True"
      ]
     },
     "execution_count": 4,
     "metadata": {},
     "output_type": "execute_result"
    }
   ],
   "source": [
    "from langchain.retrievers import EnsembleRetriever\n",
    "from langchain_community.retrievers import BM25Retriever\n",
    "from langchain_community.vectorstores import FAISS\n",
    "from langchain_openai import OpenAIEmbeddings\n",
    "from dotenv import load_dotenv\n",
    "\n",
    "load_dotenv('../dot.env')"
   ]
  },
  {
   "cell_type": "code",
   "execution_count": 8,
   "metadata": {},
   "outputs": [],
   "source": [
    "doc_list_1 = [\n",
    "    \"I like apples\",\n",
    "    \"I like oranges\",\n",
    "    \"Apples and oranges are fruits\",\n",
    "]\n",
    "embedding = OpenAIEmbeddings()\n",
    "\n",
    "# initialize the bm25 retriever and faiss retriever\n",
    "# metadata를 직접 삽입, doc_list_1*문서의 길이만큼 반복하여 삽입\n",
    "bm25_retriever = BM25Retriever.from_texts(\n",
    "    doc_list_1, metadatas=[{\"source\": 1}] * len(doc_list_1)\n",
    ")\n",
    "\n",
    "bm25_retriever.k = 2\n",
    "\n",
    "doc_list_2 = [\n",
    "    \"You like apples\",\n",
    "    \"You like oranges\",\n",
    "]\n",
    "# initialize the bm25 retriever and faiss retriever\n",
    "# metadata를 직접 삽입, doc_list_1*문서의 길이만큼 반복하여 삽입\n",
    "\n",
    "faiss_vectorstore = FAISS.from_texts(\n",
    "    doc_list_2, embedding, metadatas=[{\"source\": 2}] * len(doc_list_2)\n",
    ")\n",
    "\n",
    "faiss_retriever = faiss_vectorstore.as_retriever(search_kwargs={\"k\": 2})\n",
    "\n",
    "# initialize the ensemble retriever\n",
    "ensemble_retriever = EnsembleRetriever(\n",
    "    retrievers=[bm25_retriever, faiss_retriever], weights=[0.5, 0.5]\n",
    ")"
   ]
  },
  {
   "cell_type": "code",
   "execution_count": 9,
   "metadata": {},
   "outputs": [
    {
     "data": {
      "text/plain": [
       "[Document(metadata={'source': 1}, page_content='I like apples'),\n",
       " Document(metadata={'source': 2}, page_content='You like apples'),\n",
       " Document(metadata={'source': 1}, page_content='Apples and oranges are fruits'),\n",
       " Document(metadata={'source': 2}, page_content='You like oranges')]"
      ]
     },
     "execution_count": 9,
     "metadata": {},
     "output_type": "execute_result"
    }
   ],
   "source": [
    "docs = ensemble_retriever.invoke(\"apples\")\n",
    "docs"
   ]
  },
  {
   "cell_type": "code",
   "execution_count": 10,
   "metadata": {},
   "outputs": [
    {
     "data": {
      "text/plain": [
       "[Document(metadata={'source': 1}, page_content='I like apples'),\n",
       " Document(metadata={'source': 2}, page_content='You like apples'),\n",
       " Document(metadata={'source': 1}, page_content='Apples and oranges are fruits')]"
      ]
     },
     "execution_count": 10,
     "metadata": {},
     "output_type": "execute_result"
    }
   ],
   "source": [
    "from langchain_core.runnables import ConfigurableField\n",
    "faiss_retriever = faiss_vectorstore.as_retriever(\n",
    "    search_kwargs={\"k\": 2}\n",
    ").configurable_fields(\n",
    "    search_kwargs=ConfigurableField(\n",
    "        id=\"search_kwargs_faiss\",\n",
    "        name=\"Search Kwargs\",\n",
    "        description=\"The search kwargs to use\",\n",
    "    )\n",
    ")\n",
    "ensemble_retriever = EnsembleRetriever(\n",
    "    retrievers=[bm25_retriever, faiss_retriever], weights=[0.5, 0.5]\n",
    ")\n",
    "config = {\"configurable\": {\"search_kwargs_faiss\": {\"k\": 1}}}\n",
    "docs = ensemble_retriever.invoke(\"apples\", config=config)\n",
    "docs"
   ]
  },
  {
   "cell_type": "code",
   "execution_count": null,
   "metadata": {},
   "outputs": [],
   "source": []
  }
 ],
 "metadata": {
  "kernelspec": {
   "display_name": "teddy",
   "language": "python",
   "name": "python3"
  },
  "language_info": {
   "codemirror_mode": {
    "name": "ipython",
    "version": 3
   },
   "file_extension": ".py",
   "mimetype": "text/x-python",
   "name": "python",
   "nbconvert_exporter": "python",
   "pygments_lexer": "ipython3",
   "version": "3.11.9"
  }
 },
 "nbformat": 4,
 "nbformat_minor": 2
}
