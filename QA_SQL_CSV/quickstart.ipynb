{
 "cells": [
  {
   "cell_type": "markdown",
   "metadata": {},
   "source": [
    "# 말로하는 지도 만들기라는 거창한 프로젝트를 위해... DB와의 통신이 필요해졌기에 \n",
    "# Quickstart\n",
    "- 이 가이드에서는 SQL 데이터베이스를 사용하여 Q&A 체인과 에이전트를 만드는 기본적인 방법을 살펴볼 것입니다. \n",
    "- 이 시스템들을 통해 SQL 데이터베이스에 대한 질문을 하고 자연어 답변을 받을 수 있습니다. \n",
    "- 두 시스템의 주요 차이점은 에이전트가 질문에 답하기 위해 필요한 만큼 데이터베이스를 반복적으로 쿼리할 수 있다는 것입니다.\n",
    "# ⚠️ Security note ⚠️\n",
    "- SQL 데이터베이스의 Q&A 시스템을 구축하는 것은 모델이 생성한 SQL 쿼리를 실행해야 합니다. \n",
    "- 이 과정에는 본질적인 위험이 따릅니다. \n",
    "- 데이터베이스 연결 권한을 항상 체인/에이전트의 필요에 맞게 가능한 한 좁게 설정해야 합니다. \n",
    "- 이는 위험을 완전히 제거하지는 않지만 줄일 수 있습니다. 일반적인 보안 모범 사례에 대해서는 여기를 참조하세요.\n",
    "# Architecture\n",
    "- 전반적으로, 모든 SQL 체인과 에이전트의 단계는 다음과 같습니다:\n",
    "- 질문을 SQL 쿼리로 변환: 모델이 사용자 입력을 SQL 쿼리로 변환합니다.\n",
    "- SQL 쿼리 실행: SQL 쿼리를 실행합니다.\n",
    "- 질문에 답하기: 모델이 쿼리 결과를 사용하여 사용자 입력에 응답합니다.\n"
   ]
  },
  {
   "cell_type": "code",
   "execution_count": 10,
   "metadata": {},
   "outputs": [],
   "source": [
    "from dotenv import load_dotenv\n",
    "load_dotenv('../dot.env')\n",
    "import os\n",
    "import getpass\n",
    "\n",
    "\n",
    "def _set_if_undefined(var: str):\n",
    "    # 주어진 환경 변수가 설정되어 있지 않다면 사용자에게 입력을 요청하여 설정합니다.\n",
    "    if not os.environ.get(var):\n",
    "        os.environ[var] = getpass.getpass(f\"Please provide your {var}\")\n",
    "\n",
    "\n",
    "# OPENAI_API_KEY 환경 변수가 설정되어 있지 않으면 사용자에게 입력을 요청합니다.\n",
    "_set_if_undefined(\"OPENAI_API_KEY\")\n",
    "# LANGCHAIN_API_KEY 환경 변수가 설정되어 있지 않으면 사용자에게 입력을 요청합니다.\n",
    "_set_if_undefined(\"LANGCHAIN_API_KEY\")\n",
    "# TAVILY_API_KEY 환경 변수가 설정되어 있지 않으면 사용자에게 입력을 요청합니다.\n",
    "_set_if_undefined(\"TAVILY_API_KEY\")\n",
    "\n",
    "# LangSmith 추적 기능을 활성화합니다. (선택적)\n",
    "os.environ[\"LANGCHAIN_TRACING_V2\"] = \"true\"\n",
    "os.environ[\"LANGCHAIN_PROJECT\"] = \"QA_SQL_CSV_Quickstart\"\n",
    "\n"
   ]
  },
  {
   "cell_type": "markdown",
   "metadata": {},
   "source": [
    "# 로컬에 설치한 DB와의 연결"
   ]
  },
  {
   "cell_type": "code",
   "execution_count": 11,
   "metadata": {},
   "outputs": [
    {
     "name": "stdout",
     "output_type": "stream",
     "text": [
      "sqlite\n",
      "['Album', 'Artist', 'Customer', 'Employee', 'Genre', 'Invoice', 'InvoiceLine', 'MediaType', 'Playlist', 'PlaylistTrack', 'Track']\n"
     ]
    },
    {
     "data": {
      "text/plain": [
       "\"[(1, 'AC/DC'), (2, 'Accept'), (3, 'Aerosmith'), (4, 'Alanis Morissette'), (5, 'Alice In Chains'), (6, 'Antônio Carlos Jobim'), (7, 'Apocalyptica'), (8, 'Audioslave'), (9, 'BackBeat'), (10, 'Billy Cobham')]\""
      ]
     },
     "execution_count": 11,
     "metadata": {},
     "output_type": "execute_result"
    }
   ],
   "source": [
    "from langchain_community.utilities import SQLDatabase\n",
    "\n",
    "db = SQLDatabase.from_uri(\"sqlite:///Chinook.db\")\n",
    "print(db.dialect)\n",
    "print(db.get_usable_table_names())\n",
    "db.run(\"SELECT * FROM Artist LIMIT 10;\")"
   ]
  },
  {
   "cell_type": "markdown",
   "metadata": {},
   "source": [
    "# "
   ]
  },
  {
   "cell_type": "markdown",
   "metadata": {},
   "source": [
    "# sql문 리턴 성능\n",
    "- gpt-3.5-turbo: 완벽\n",
    "- xionic-ko-llama-3-70b: 미달\n",
    "- QuantFactory/dolphin-2.9-llama3-8b-GGUF: 상(프롬프트 조작을 통해 사용 가능)\n",
    "- mradermacher_f16/Joah-Remix-Llama-3-KoEn-8B-Reborn-GGUF: 상(프롬프트 조작을 통해 사용 가능)\n",
    "- asiansoul_q8_0/Joah-Remix-Llama-3-KoEn-8B-Reborn-8B-Q8_0: 상(프롬프트 조작을 통해 사용 가능)"
   ]
  },
  {
   "cell_type": "code",
   "execution_count": 13,
   "metadata": {},
   "outputs": [
    {
     "name": "stdout",
     "output_type": "stream",
     "text": [
      "SQLQuery: SELECT COUNT(*) FROM Customer;\n",
      "SELECT COUNT(*) FROM Customer;\n",
      "\n"
     ]
    },
    {
     "data": {
      "text/plain": [
       "'[(59,)]'"
      ]
     },
     "execution_count": 13,
     "metadata": {},
     "output_type": "execute_result"
    }
   ],
   "source": [
    "from langchain.chains import create_sql_query_chain\n",
    "from langchain_openai import ChatOpenAI\n",
    "from langchain_core.callbacks.streaming_stdout import StreamingStdOutCallbackHandler\n",
    "from langchain_core.prompts import PromptTemplate\n",
    "from langchain import hub\n",
    "from langchain_core.output_parsers import StrOutputParser\n",
    "\n",
    "\n",
    "# llm = ChatOpenAI(model=\"gpt-3.5-turbo\",\n",
    "#                 temperature=0,\n",
    "#                 streaming=True,\n",
    "#     callbacks=[StreamingStdOutCallbackHandler()]\n",
    "#                 )\n",
    "\n",
    "\n",
    "# llm = ChatOpenAI(\n",
    "#     base_url=\"http://localhost:1234/v1\", #-> lmstudio를 통해 열어놓은 서버로 llm을 구동하고 있는 상태, lmstudio에 서빙하고 있는 모델만 바꿔주면 새로 나온 모델을 시험해볼 수 있음\n",
    "#     api_key=\"lm-studio\",\n",
    "#     model=\"mradermacher_f16/Joah-Remix-Llama-3-KoEn-8B-Reborn-GGUF\",\n",
    "#     temperature=0,\n",
    "#     streaming=True,\n",
    "#     callbacks=[StreamingStdOutCallbackHandler()]\n",
    "# )\n",
    "\n",
    "llm = ChatOpenAI(\n",
    "    base_url=\"http://localhost:1234/v1\", #-> lmstudio를 통해 열어놓은 서버로 llm을 구동하고 있는 상태, lmstudio에 서빙하고 있는 모델만 바꿔주면 새로 나온 모델을 시험해볼 수 있음\n",
    "    api_key=\"lm-studio\",\n",
    "    model=\"asiansoul_q8_0/Joah-Remix-Llama-3-KoEn-8B-Reborn-8B-Q8_0\",\n",
    "    temperature=0,\n",
    "    streaming=True,\n",
    "    callbacks=[StreamingStdOutCallbackHandler()]\n",
    ")\n",
    "\n",
    "# llm = ChatOpenAI(\n",
    "#     base_url = 'http://sionic.chat:8001/v1',\n",
    "#     api_key = \"934c4bbc-c384-4bea-af82-1450d7f8128d\",\n",
    "#     model = 'xionic-ko-llama-3-70b',\n",
    "#     temperature = 0.1,\n",
    "#     streaming=True,\n",
    "#     callbacks=[StreamingStdOutCallbackHandler()]\n",
    "# )\n",
    "\n",
    "# llm = ChatOpenAI(\n",
    "#     base_url=\"http://localhost:1234/v1\", #-> lmstudio를 통해 열어놓은 서버로 llm을 구동하고 있는 상태, lmstudio에 서빙하고 있는 모델만 바꿔주면 새로 나온 모델을 시험해볼 수 있음\n",
    "#     api_key=\"lm-studio\",\n",
    "#     model=\"QuantFactory/dolphin-2.9-llama3-8b-GGUF\",\n",
    "#     temperature=0,\n",
    "#     streaming=True,\n",
    "#     callbacks=[StreamingStdOutCallbackHandler()]\n",
    "# )\n",
    "# ----------------------------------------------\n",
    "prompt = hub.pull(\"rlm/text-to-sql\")\n",
    "\n",
    "# Create chain with LangChain Expression Language\n",
    "inputs = {\n",
    "    \"table_info\": lambda x: db.get_table_info(),\n",
    "    \"input\": lambda x: x[\"question\"],\n",
    "    \"few_shot_examples\": lambda x: \"\",\n",
    "    \"dialect\": lambda x: db.dialect,\n",
    "}\n",
    "# ----------------------------------------------\n",
    "\n",
    "sql_response = (\n",
    "    inputs\n",
    "    | prompt\n",
    "    | llm.bind(stop=[\"SQLResult:\"])\n",
    "    | StrOutputParser()\n",
    "    | (lambda x: x.split(\"SQLQuery: \")[1]) #LCED의 lambda 사용법 익히기\n",
    ")\n",
    "\n",
    "# Call with a given question\n",
    "response = sql_response.invoke({\"question\": \"How many customers are there?\"})\n",
    "# chain = create_sql_query_chain(llm, db) #-> db정보를 context로 주는 chain, connection을 이용, 실시간 db에 접근할 수 있는지\n",
    "# query = 'What information is in the employee table?'\n",
    "# # response = chain.invoke({\"question\": f\" just return sql query about {query}\"})\n",
    "# response = chain.invoke({\"question\": f\"{query}\"})\n",
    "print(response)\n",
    "db.run(response)\n"
   ]
  },
  {
   "cell_type": "markdown",
   "metadata": {},
   "source": [
    "# 로컬모델을 이용하더라도 프롬프토 조작을 통해 원하는 답변 얻을 수 있음"
   ]
  },
  {
   "cell_type": "markdown",
   "metadata": {},
   "source": [
    "# LangSmith 추적을 통해 이 체인이 무엇을 하는지 더 잘 이해할 수 있습니다. 또한 체인의 프롬프트를 직접 검사할 수도 있습니다. 아래의 프롬프트를 보면 다음과 같습니다:\n",
    "\n",
    "- 방언 특정입니다. 이 경우에는 SQLite를 명시적으로 참조합니다.\n",
    "- 사용 가능한 모든 테이블에 대한 정의가 있습니다.\n",
    "- 각 테이블에 대해 세 개의 예제 행이 있습니다.\n",
    "- 이 기술은 예제 행을 보여주고 테이블에 대해 명시적으로 설명하는 것이 성능을 향상시킨다고 제안하는 논문에서 영감을 받았습니다. 전체 프롬프트를 다음과 같이 검사할 수도 있습니다:\n"
   ]
  },
  {
   "cell_type": "markdown",
   "metadata": {},
   "source": [
    "LangChain docs 와는 달리 아래 prompt와 inputs를 사용, llama-3 기반 오픈\n",
    "모델으로도 쿼리 생성 및 실행 가능\n",
    "---------------------------\n",
    "- prompt(hub.pull(\"rlm/text-to-sql\"))\n",
    "- inputs = {\n",
    "    \"table_info\": lambda x: db.get_table_info(),\n",
    "    \"input\": lambda x: x[\"question\"],\n",
    "    \"few_shot_examples\": lambda x: \"\",\n",
    "    \"dialect\": lambda x: db.dialect,\n",
    "}\n",
    "-----------------------------\n"
   ]
  },
  {
   "cell_type": "code",
   "execution_count": 6,
   "metadata": {},
   "outputs": [
    {
     "name": "stdout",
     "output_type": "stream",
     "text": [
      "================================\u001b[1m Human Message \u001b[0m=================================\n",
      "\n",
      "Given an input question, first create a syntactically correct \u001b[33;1m\u001b[1;3m{dialect}\u001b[0m query to run, then look at the results of the query and return the answer.\n",
      "Use the following format:\n",
      "\n",
      "Question: \"Question here\"\n",
      "SQLQuery: \"SQL Query to run\"\n",
      "SQLResult: \"Result of the SQLQuery\"\n",
      "Answer: \"Final answer here\"\n",
      "\n",
      "Only use the following tables:\n",
      "\n",
      "\u001b[33;1m\u001b[1;3m{table_info}\u001b[0m.\n",
      "\n",
      "Some examples of SQL queries that corrsespond to questions are:\n",
      "\n",
      "\u001b[33;1m\u001b[1;3m{few_shot_examples}\u001b[0m\n",
      "\n",
      "Question: \u001b[33;1m\u001b[1;3m{input}\u001b[0m\n"
     ]
    }
   ],
   "source": [
    "# 프롬프트 검사\n",
    "sql_response.get_prompts()[0].pretty_print()"
   ]
  },
  {
   "cell_type": "markdown",
   "metadata": {},
   "source": [
    "# 쿼리 실행기 추가\n",
    "- QuerySQLDataBaseTool을 Chain에 넣어 생성된 sql query를 곧바로 실행할 수 있음."
   ]
  },
  {
   "cell_type": "code",
   "execution_count": 14,
   "metadata": {},
   "outputs": [
    {
     "name": "stdout",
     "output_type": "stream",
     "text": [
      "SQLQuery: SELECT COUNT(*) FROM Employee;\n"
     ]
    },
    {
     "data": {
      "text/plain": [
       "'[(8,)]'"
      ]
     },
     "execution_count": 14,
     "metadata": {},
     "output_type": "execute_result"
    }
   ],
   "source": [
    "from langchain_community.tools import QuerySQLDataBaseTool\n",
    "\n",
    "execute_query = QuerySQLDataBaseTool(db = db)\n",
    "\n",
    "query = '''how many employee are there?'''\n",
    "response = sql_response\n",
    "\n",
    "chain = response | execute_query\n",
    "chain.invoke({'question': f'{query}'})\n",
    "\n"
   ]
  },
  {
   "cell_type": "markdown",
   "metadata": {},
   "source": [
    "# 질문에 답하기\n",
    "- 이제 자동으로 SQL 쿼리를 생성하고 실행하는 방법을 갖추었으므로, 원래의 질문과 SQL 쿼리 결과를 결합하여 최종 답변을 생성하기만 하면 됩니다. 이를 위해 질문과 결과를 다시 LLM에 전달할 수 있습니다:\n"
   ]
  },
  {
   "cell_type": "code",
   "execution_count": 15,
   "metadata": {},
   "outputs": [
    {
     "name": "stdout",
     "output_type": "stream",
     "text": [
      "SQLQuery: SELECT COUNT(*) FROM Employee;\n",
      "8명의 직원이 있습니다."
     ]
    },
    {
     "data": {
      "text/plain": [
       "'8명의 직원이 있습니다.'"
      ]
     },
     "execution_count": 15,
     "metadata": {},
     "output_type": "execute_result"
    }
   ],
   "source": [
    "from operator import itemgetter\n",
    "\n",
    "from langchain_core.output_parsers import StrOutputParser\n",
    "from langchain_core.prompts import PromptTemplate\n",
    "from langchain_core.runnables import RunnablePassthrough\n",
    "\n",
    "answer_prompt = PromptTemplate.from_template(\n",
    "    \"\"\"Given the following user question, corresponding SQL query, and SQL result, answer the user question.\n",
    "\n",
    "Question: {question}\n",
    "SQL Query: {query}\n",
    "SQL Result: {result}\n",
    "Answer: \"\"\"\n",
    ")\n",
    "\n",
    "answer = answer_prompt | llm | StrOutputParser()\n",
    "chain = (\n",
    "    RunnablePassthrough.assign(query=response).assign(\n",
    "        result=itemgetter(\"query\") | execute_query\n",
    "    )\n",
    "    | answer\n",
    ")\n",
    "\n",
    "chain.invoke({\"question\": \"How many employees are there\"})"
   ]
  },
  {
   "cell_type": "markdown",
   "metadata": {},
   "source": [
    "# Chain을 구성하는 방법 외에 agent를 구성하는 방법도 있습니다"
   ]
  },
  {
   "cell_type": "markdown",
   "metadata": {},
   "source": [
    "LangChain에는 SQL 데이터베이스와 상호 작용하는 더 유연한 방법을 제공하는 SQL 에이전트가 있습니다. SQL 에이전트를 사용하는 주요 장점은 다음과 같습니다:\n",
    " \n",
    "- 데이터베이스의 스키마뿐만 아니라 데이터베이스의 내용(특정 테이블 설명 등)을 기반으로 질문에 답할 수 있습니다.\n",
    "- 생성된 쿼리를 실행하고 트레이스백을 잡아 올바르게 재생성하여 오류에서 복구할 수 있습니다.\n",
    "- 여러 종속 쿼리가 필요한 질문에 답할 수 있습니다.\n",
    "- 관련 테이블의 스키마만 고려하여 토큰을 절약할 수 있습니다.\n",
    "- 에이전트를 초기화하려면 create_sql_agent 함수를 사용합니다. 이 에이전트에는 다음과 같은 도구를 포함하는 SQLDatabaseToolkit이 포함되어 있습니다:\n",
    " \n",
    "- 쿼리 생성 및 실행\n",
    "- 쿼리 구문 검사\n",
    "- 테이블 설명 검색\n"
   ]
  },
  {
   "cell_type": "code",
   "execution_count": 24,
   "metadata": {},
   "outputs": [],
   "source": [
    "from langchain_community.agent_toolkits import create_sql_agent\n",
    "\n",
    "llm = ChatOpenAI(\n",
    "    model=\"gpt-3.5-turbo\",\n",
    "    temperature=0,\n",
    "    streaming=True,\n",
    "    callbacks=[StreamingStdOutCallbackHandler()]\n",
    ")\n",
    "agent_executor = create_sql_agent(llm=llm, db=db, agent_type=\"openai-tools\", verbose=True)\n"
   ]
  },
  {
   "cell_type": "code",
   "execution_count": 26,
   "metadata": {},
   "outputs": [
    {
     "name": "stdout",
     "output_type": "stream",
     "text": [
      "\n",
      "\n",
      "\u001b[1m> Entering new SQL Agent Executor chain...\u001b[0m\n",
      "\u001b[32;1m\u001b[1;3m\n",
      "Invoking: `sql_db_list_tables` with `{}`\n",
      "\n",
      "\n",
      "\u001b[0m\u001b[38;5;200m\u001b[1;3mAlbum, Artist, Customer, Employee, Genre, Invoice, InvoiceLine, MediaType, Playlist, PlaylistTrack, Track\u001b[0m\u001b[32;1m\u001b[1;3m\n",
      "Invoking: `sql_db_schema` with `{'table_names': 'Customer, Invoice, InvoiceLine'}`\n",
      "\n",
      "\n",
      "\u001b[0m\u001b[33;1m\u001b[1;3m\n",
      "CREATE TABLE \"Customer\" (\n",
      "\t\"CustomerId\" INTEGER NOT NULL, \n",
      "\t\"FirstName\" NVARCHAR(40) NOT NULL, \n",
      "\t\"LastName\" NVARCHAR(20) NOT NULL, \n",
      "\t\"Company\" NVARCHAR(80), \n",
      "\t\"Address\" NVARCHAR(70), \n",
      "\t\"City\" NVARCHAR(40), \n",
      "\t\"State\" NVARCHAR(40), \n",
      "\t\"Country\" NVARCHAR(40), \n",
      "\t\"PostalCode\" NVARCHAR(10), \n",
      "\t\"Phone\" NVARCHAR(24), \n",
      "\t\"Fax\" NVARCHAR(24), \n",
      "\t\"Email\" NVARCHAR(60) NOT NULL, \n",
      "\t\"SupportRepId\" INTEGER, \n",
      "\tPRIMARY KEY (\"CustomerId\"), \n",
      "\tFOREIGN KEY(\"SupportRepId\") REFERENCES \"Employee\" (\"EmployeeId\")\n",
      ")\n",
      "\n",
      "/*\n",
      "3 rows from Customer table:\n",
      "CustomerId\tFirstName\tLastName\tCompany\tAddress\tCity\tState\tCountry\tPostalCode\tPhone\tFax\tEmail\tSupportRepId\n",
      "1\tLuís\tGonçalves\tEmbraer - Empresa Brasileira de Aeronáutica S.A.\tAv. Brigadeiro Faria Lima, 2170\tSão José dos Campos\tSP\tBrazil\t12227-000\t+55 (12) 3923-5555\t+55 (12) 3923-5566\tluisg@embraer.com.br\t3\n",
      "2\tLeonie\tKöhler\tNone\tTheodor-Heuss-Straße 34\tStuttgart\tNone\tGermany\t70174\t+49 0711 2842222\tNone\tleonekohler@surfeu.de\t5\n",
      "3\tFrançois\tTremblay\tNone\t1498 rue Bélanger\tMontréal\tQC\tCanada\tH2G 1A7\t+1 (514) 721-4711\tNone\tftremblay@gmail.com\t3\n",
      "*/\n",
      "\n",
      "\n",
      "CREATE TABLE \"Invoice\" (\n",
      "\t\"InvoiceId\" INTEGER NOT NULL, \n",
      "\t\"CustomerId\" INTEGER NOT NULL, \n",
      "\t\"InvoiceDate\" DATETIME NOT NULL, \n",
      "\t\"BillingAddress\" NVARCHAR(70), \n",
      "\t\"BillingCity\" NVARCHAR(40), \n",
      "\t\"BillingState\" NVARCHAR(40), \n",
      "\t\"BillingCountry\" NVARCHAR(40), \n",
      "\t\"BillingPostalCode\" NVARCHAR(10), \n",
      "\t\"Total\" NUMERIC(10, 2) NOT NULL, \n",
      "\tPRIMARY KEY (\"InvoiceId\"), \n",
      "\tFOREIGN KEY(\"CustomerId\") REFERENCES \"Customer\" (\"CustomerId\")\n",
      ")\n",
      "\n",
      "/*\n",
      "3 rows from Invoice table:\n",
      "InvoiceId\tCustomerId\tInvoiceDate\tBillingAddress\tBillingCity\tBillingState\tBillingCountry\tBillingPostalCode\tTotal\n",
      "1\t2\t2021-01-01 00:00:00\tTheodor-Heuss-Straße 34\tStuttgart\tNone\tGermany\t70174\t1.98\n",
      "2\t4\t2021-01-02 00:00:00\tUllevålsveien 14\tOslo\tNone\tNorway\t0171\t3.96\n",
      "3\t8\t2021-01-03 00:00:00\tGrétrystraat 63\tBrussels\tNone\tBelgium\t1000\t5.94\n",
      "*/\n",
      "\n",
      "\n",
      "CREATE TABLE \"InvoiceLine\" (\n",
      "\t\"InvoiceLineId\" INTEGER NOT NULL, \n",
      "\t\"InvoiceId\" INTEGER NOT NULL, \n",
      "\t\"TrackId\" INTEGER NOT NULL, \n",
      "\t\"UnitPrice\" NUMERIC(10, 2) NOT NULL, \n",
      "\t\"Quantity\" INTEGER NOT NULL, \n",
      "\tPRIMARY KEY (\"InvoiceLineId\"), \n",
      "\tFOREIGN KEY(\"TrackId\") REFERENCES \"Track\" (\"TrackId\"), \n",
      "\tFOREIGN KEY(\"InvoiceId\") REFERENCES \"Invoice\" (\"InvoiceId\")\n",
      ")\n",
      "\n",
      "/*\n",
      "3 rows from InvoiceLine table:\n",
      "InvoiceLineId\tInvoiceId\tTrackId\tUnitPrice\tQuantity\n",
      "1\t1\t2\t0.99\t1\n",
      "2\t1\t4\t0.99\t1\n",
      "3\t2\t6\t0.99\t1\n",
      "*/\u001b[0m\u001b[32;1m\u001b[1;3m\n",
      "Invoking: `sql_db_query` with `{'query': 'SELECT BillingCountry AS Country, SUM(Total) AS TotalSales FROM Invoice GROUP BY BillingCountry ORDER BY TotalSales DESC'}`\n",
      "\n",
      "\n",
      "\u001b[0m\u001b[36;1m\u001b[1;3m[('USA', 523.0600000000003), ('Canada', 303.9599999999999), ('France', 195.09999999999994), ('Brazil', 190.09999999999997), ('Germany', 156.48), ('United Kingdom', 112.85999999999999), ('Czech Republic', 90.24000000000001), ('Portugal', 77.23999999999998), ('India', 75.25999999999999), ('Chile', 46.62), ('Ireland', 45.62), ('Hungary', 45.62), ('Austria', 42.62), ('Finland', 41.620000000000005), ('Netherlands', 40.62), ('Norway', 39.62), ('Sweden', 38.620000000000005), ('Poland', 37.620000000000005), ('Italy', 37.620000000000005), ('Denmark', 37.620000000000005), ('Australia', 37.620000000000005), ('Argentina', 37.620000000000005), ('Spain', 37.62), ('Belgium', 37.62)]\u001b[0mThe total sales per country are as follows:\n",
      "\n",
      "1. USA: $523.06\n",
      "2. Canada: $303.96\n",
      "3. France: $195.10\n",
      "4. Brazil: $190.10\n",
      "5. Germany: $156.48\n",
      "6. United Kingdom: $112.86\n",
      "7. Czech Republic: $90.24\n",
      "8. Portugal: $77.24\n",
      "9. India: $75.26\n",
      "10. Chile: $46.62\n",
      "\n",
      "The country whose customers spent the most is the USA with a total sales amount of $523.06.\u001b[32;1m\u001b[1;3mThe total sales per country are as follows:\n",
      "\n",
      "1. USA: $523.06\n",
      "2. Canada: $303.96\n",
      "3. France: $195.10\n",
      "4. Brazil: $190.10\n",
      "5. Germany: $156.48\n",
      "6. United Kingdom: $112.86\n",
      "7. Czech Republic: $90.24\n",
      "8. Portugal: $77.24\n",
      "9. India: $75.26\n",
      "10. Chile: $46.62\n",
      "\n",
      "The country whose customers spent the most is the USA with a total sales amount of $523.06.\u001b[0m\n",
      "\n",
      "\u001b[1m> Finished chain.\u001b[0m\n"
     ]
    },
    {
     "data": {
      "text/plain": [
       "{'input': \"List the total sales per all countries. Which country's customers spent the most?\",\n",
       " 'output': 'The total sales per country are as follows:\\n\\n1. USA: $523.06\\n2. Canada: $303.96\\n3. France: $195.10\\n4. Brazil: $190.10\\n5. Germany: $156.48\\n6. United Kingdom: $112.86\\n7. Czech Republic: $90.24\\n8. Portugal: $77.24\\n9. India: $75.26\\n10. Chile: $46.62\\n\\nThe country whose customers spent the most is the USA with a total sales amount of $523.06.'}"
      ]
     },
     "execution_count": 26,
     "metadata": {},
     "output_type": "execute_result"
    }
   ],
   "source": [
    "agent_executor.invoke(\n",
    "    {\n",
    "        \"input\": \"List the total sales per all countries. Which country's customers spent the most?\"\n",
    "    }\n",
    ")"
   ]
  },
  {
   "cell_type": "code",
   "execution_count": 27,
   "metadata": {},
   "outputs": [
    {
     "name": "stdout",
     "output_type": "stream",
     "text": [
      "\n",
      "\n",
      "\u001b[1m> Entering new SQL Agent Executor chain...\u001b[0m\n",
      "\u001b[32;1m\u001b[1;3m\n",
      "Invoking: `sql_db_list_tables` with `{}`\n",
      "\n",
      "\n",
      "\u001b[0m\u001b[38;5;200m\u001b[1;3mAlbum, Artist, Customer, Employee, Genre, Invoice, InvoiceLine, MediaType, Playlist, PlaylistTrack, Track\u001b[0m\u001b[32;1m\u001b[1;3m\n",
      "Invoking: `sql_db_schema` with `{'table_names': 'PlaylistTrack'}`\n",
      "\n",
      "\n",
      "\u001b[0m\u001b[33;1m\u001b[1;3m\n",
      "CREATE TABLE \"PlaylistTrack\" (\n",
      "\t\"PlaylistId\" INTEGER NOT NULL, \n",
      "\t\"TrackId\" INTEGER NOT NULL, \n",
      "\tPRIMARY KEY (\"PlaylistId\", \"TrackId\"), \n",
      "\tFOREIGN KEY(\"TrackId\") REFERENCES \"Track\" (\"TrackId\"), \n",
      "\tFOREIGN KEY(\"PlaylistId\") REFERENCES \"Playlist\" (\"PlaylistId\")\n",
      ")\n",
      "\n",
      "/*\n",
      "3 rows from PlaylistTrack table:\n",
      "PlaylistId\tTrackId\n",
      "1\t3402\n",
      "1\t3389\n",
      "1\t3390\n",
      "*/\u001b[0mThe `PlaylistTrack` table has the following columns:\n",
      "- PlaylistId: INTEGER (NOT NULL)\n",
      "- TrackId: INTEGER (NOT NULL)\n",
      "\n",
      "It is a junction table with a composite primary key consisting of PlaylistId and TrackId. The table also has foreign key constraints referencing the `Track` table and the `Playlist` table.\n",
      "\n",
      "Here are 3 sample rows from the `PlaylistTrack` table:\n",
      "1. PlaylistId: 1, TrackId: 3402\n",
      "2. PlaylistId: 1, TrackId: 3389\n",
      "3. PlaylistId: 1, TrackId: 3390\u001b[32;1m\u001b[1;3mThe `PlaylistTrack` table has the following columns:\n",
      "- PlaylistId: INTEGER (NOT NULL)\n",
      "- TrackId: INTEGER (NOT NULL)\n",
      "\n",
      "It is a junction table with a composite primary key consisting of PlaylistId and TrackId. The table also has foreign key constraints referencing the `Track` table and the `Playlist` table.\n",
      "\n",
      "Here are 3 sample rows from the `PlaylistTrack` table:\n",
      "1. PlaylistId: 1, TrackId: 3402\n",
      "2. PlaylistId: 1, TrackId: 3389\n",
      "3. PlaylistId: 1, TrackId: 3390\u001b[0m\n",
      "\n",
      "\u001b[1m> Finished chain.\u001b[0m\n"
     ]
    },
    {
     "data": {
      "text/plain": [
       "{'input': 'Describe the playlisttrack table',\n",
       " 'output': 'The `PlaylistTrack` table has the following columns:\\n- PlaylistId: INTEGER (NOT NULL)\\n- TrackId: INTEGER (NOT NULL)\\n\\nIt is a junction table with a composite primary key consisting of PlaylistId and TrackId. The table also has foreign key constraints referencing the `Track` table and the `Playlist` table.\\n\\nHere are 3 sample rows from the `PlaylistTrack` table:\\n1. PlaylistId: 1, TrackId: 3402\\n2. PlaylistId: 1, TrackId: 3389\\n3. PlaylistId: 1, TrackId: 3390'}"
      ]
     },
     "execution_count": 27,
     "metadata": {},
     "output_type": "execute_result"
    }
   ],
   "source": [
    "agent_executor.invoke({\"input\": \"Describe the playlisttrack table\"})"
   ]
  },
  {
   "cell_type": "code",
   "execution_count": null,
   "metadata": {},
   "outputs": [],
   "source": []
  }
 ],
 "metadata": {
  "kernelspec": {
   "display_name": "Teddy",
   "language": "python",
   "name": "python3"
  },
  "language_info": {
   "codemirror_mode": {
    "name": "ipython",
    "version": 3
   },
   "file_extension": ".py",
   "mimetype": "text/x-python",
   "name": "python",
   "nbconvert_exporter": "python",
   "pygments_lexer": "ipython3",
   "version": "3.11.9"
  }
 },
 "nbformat": 4,
 "nbformat_minor": 2
}
