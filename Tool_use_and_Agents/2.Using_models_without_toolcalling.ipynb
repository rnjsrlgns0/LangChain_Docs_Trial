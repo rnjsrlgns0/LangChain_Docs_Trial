{
 "cells": [
  {
   "cell_type": "markdown",
   "metadata": {},
   "source": [
    "# Tool calling을 지원하지 않는 모델들에서 tool 쓰기\n",
    "- tool calling 없는 chain을 구성\n",
    "- prompt만으로 직접 tool 부르기"
   ]
  },
  {
   "cell_type": "code",
   "execution_count": 21,
   "metadata": {},
   "outputs": [
    {
     "data": {
      "text/plain": [
       "True"
      ]
     },
     "execution_count": 21,
     "metadata": {},
     "output_type": "execute_result"
    }
   ],
   "source": [
    "from dotenv import load_dotenv\n",
    "load_dotenv('../dot.env')"
   ]
  },
  {
   "cell_type": "code",
   "execution_count": 22,
   "metadata": {},
   "outputs": [],
   "source": [
    "from langchain_core.tools import tool\n",
    "\n",
    "# 덧셈, 곱셈, 지수 연산 툴 정의\n",
    "@tool\n",
    "def multiply(first_int: int, second_int: int) -> int:\n",
    "    \"\"\"Multiply two integers together.\"\"\"\n",
    "    return first_int * second_int\n",
    "\n",
    "@tool\n",
    "def add(first_int: int, second_int: int) -> int:\n",
    "    \"\"\"Add two integers.\"\"\"\n",
    "    return first_int + second_int\n",
    "\n",
    "@tool\n",
    "def exponentiate(base: int, exponent: int) -> int:\n",
    "    \"\"\"Exponentiate the base to the exponent power.\"\"\"\n",
    "    return base**exponent"
   ]
  },
  {
   "cell_type": "code",
   "execution_count": 23,
   "metadata": {},
   "outputs": [
    {
     "name": "stdout",
     "output_type": "stream",
     "text": [
      "{'first_int': {'title': 'First Int', 'type': 'integer'}, 'second_int': {'title': 'Second Int', 'type': 'integer'}}\n",
      "{'first_int': {'title': 'First Int', 'type': 'integer'}, 'second_int': {'title': 'Second Int', 'type': 'integer'}}\n",
      "{'base': {'title': 'Base', 'type': 'integer'}, 'exponent': {'title': 'Exponent', 'type': 'integer'}}\n"
     ]
    }
   ],
   "source": [
    "# tool들의 인자 확인\n",
    "tools = [multiply, add, exponentiate]\n",
    "\n",
    "for i in tools:\n",
    "    print(i.args)\n",
    "\n"
   ]
  },
  {
   "cell_type": "markdown",
   "metadata": {},
   "source": [
    "# tool을 호출하고 작동시키기 위한 prompt 생성\n",
    "- 모델이 접근할 수 있는 도구들, 그 도구들의 인자들, 그리고 모델의 원하는 출력 형식을 명시하는 프롬프트를 작성하고자 합니다. 이 경우에는 모델이 {\"name\": \"...\", \"arguments\": {...}} 형태의 JSON 블롭을 출력하도록 지시할 것입니다.\n"
   ]
  },
  {
   "cell_type": "code",
   "execution_count": 24,
   "metadata": {},
   "outputs": [
    {
     "data": {
      "text/plain": [
       "'multiply: multiply(first_int: int, second_int: int) -> int - Multiply two integers together.'"
      ]
     },
     "execution_count": 24,
     "metadata": {},
     "output_type": "execute_result"
    }
   ],
   "source": [
    "from langchain.tools.render import render_text_description\n",
    "\n",
    "rendered_tools = render_text_description([multiply])\n",
    "# rendered_tools = render_text_description([add])\n",
    "# rendered_tools = render_text_description([exponentiate])\n",
    "rendered_tools \n",
    "\n"
   ]
  },
  {
   "cell_type": "markdown",
   "metadata": {},
   "source": [
    "#render된 함수 및 user input는 prompt 생성"
   ]
  },
  {
   "cell_type": "code",
   "execution_count": 25,
   "metadata": {},
   "outputs": [],
   "source": [
    "from langchain_core.prompts import ChatPromptTemplate\n",
    "\n",
    "system_prompt = f\"\"\"You are an assistant that has access to the following set of tools. Here are the names and descriptions for each tool:\n",
    "\n",
    "{rendered_tools}\n",
    "\n",
    "Given the user input, return the name and input of the tool to use. Return your response as a JSON blob with 'name' and 'arguments' keys.\"\"\"\n",
    "\n",
    "# ChatPromptTemplate.from_messages는 대화형 프롬프트를 생성하는 함수입니다.\n",
    "# [(\"system\", system_prompt), (\"user\", \"{input}\")]는 시스템 메시지와 사용자 입력을 포함하는 메시지 목록을 정의합니다.\n",
    "# \"system\" 키는 시스템에서 제공하는 정보를 나타내며, \"user\" 키는 사용자의 입력을 받아서 처리할 수 있도록 합니다.\n",
    "# \"{input}\"은 사용자 입력을 동적으로 받아서 처리하는 부분을 표현합니다.\n",
    "prompt = ChatPromptTemplate.from_messages(\n",
    "    [(\"system\", system_prompt), (\"user\", \"{input}\")]\n",
    ")"
   ]
  },
  {
   "cell_type": "code",
   "execution_count": 26,
   "metadata": {},
   "outputs": [
    {
     "data": {
      "text/plain": [
       "ChatPromptTemplate(input_variables=['input'], messages=[SystemMessagePromptTemplate(prompt=PromptTemplate(input_variables=[], template=\"You are an assistant that has access to the following set of tools. Here are the names and descriptions for each tool:\\n\\nmultiply: multiply(first_int: int, second_int: int) -> int - Multiply two integers together.\\n\\nGiven the user input, return the name and input of the tool to use. Return your response as a JSON blob with 'name' and 'arguments' keys.\")), HumanMessagePromptTemplate(prompt=PromptTemplate(input_variables=['input'], template='{input}'))])"
      ]
     },
     "execution_count": 26,
     "metadata": {},
     "output_type": "execute_result"
    }
   ],
   "source": [
    "prompt"
   ]
  },
  {
   "cell_type": "markdown",
   "metadata": {},
   "source": [
    "# output parser 더해주기\n",
    "- 아래 chain은 입력을 받아 tool의 이름, 인자들을 출력하는 체인입니다.\n",
    "- 체인의 마지막에는 output parser가 추가되어 있습니다. output parser는 모델의 출력을 파싱하고, 데이터 구조를 보다 쉽게 사용할 수 있도록 해줍니다.\n",
    "- output parser는 모델의 출력을 파싱하고, 데이터 구조를 보다 쉽게 사용할 수 있도록 해줍니다.\n",
    "\n"
   ]
  },
  {
   "cell_type": "code",
   "execution_count": 27,
   "metadata": {},
   "outputs": [
    {
     "data": {
      "text/plain": [
       "{'name': 'multiply', 'arguments': {'first_int': 13, 'second_int': 4}}"
      ]
     },
     "execution_count": 27,
     "metadata": {},
     "output_type": "execute_result"
    }
   ],
   "source": [
    "from langchain_core.output_parsers import JsonOutputParser\n",
    "from langchain_openai import ChatOpenAI\n",
    "\n",
    "model = ChatOpenAI(model=\"gpt-3.5-turbo\", temperature=0)\n",
    "chain_1 = prompt | model | JsonOutputParser()\n",
    "chain_1.invoke({\"input\": \"what's thirteen times 4\"})\n",
    "\n"
   ]
  },
  {
   "cell_type": "markdown",
   "metadata": {},
   "source": [
    "- 위에서 정의한 chain_1은 입력을 받아 tool.name, arguments를 출력하는 chain\n",
    "- chain_2는 이에 itemgetter('arguments')를 추가, 인자를 가져온 후 multiply 함수에 넣어서 곱셈 연산을 수행하고, 그 결과를 출력하는 chain\n",
    "- chain_1의 출력에는 tool의 이름도 있으므로, 여러 개의 tool 중 필요한 것을 가져오는 것도 가능\n"
   ]
  },
  {
   "cell_type": "code",
   "execution_count": 28,
   "metadata": {},
   "outputs": [
    {
     "data": {
      "text/plain": [
       "52"
      ]
     },
     "execution_count": 28,
     "metadata": {},
     "output_type": "execute_result"
    }
   ],
   "source": [
    "from operator import itemgetter\n",
    "\n",
    "chain_2 = chain_1 | itemgetter(\"arguments\") | multiply\n",
    "chain_2.invoke({'input': \"what's thirteen times 4\"})"
   ]
  },
  {
   "cell_type": "markdown",
   "metadata": {},
   "source": [
    "# 다중 tool 중 하나 선택하기"
   ]
  },
  {
   "cell_type": "code",
   "execution_count": 43,
   "metadata": {},
   "outputs": [],
   "source": [
    "tools = [add, exponentiate, multiply]\n",
    "def tool_chain(model_output):\n",
    "    tool_map = {tool.name: tool for tool in tools} # tool.name과 tool 객체가 매핑되는 딕셔너리 생성\n",
    "    chosen_tool = tool_map[model_output['name']]\n",
    "    # print(itemgetter('arguments') | chosen_tool)\n",
    "    return itemgetter('arguments') | chosen_tool"
   ]
  },
  {
   "cell_type": "code",
   "execution_count": 44,
   "metadata": {},
   "outputs": [
    {
     "data": {
      "text/plain": [
       "1135"
      ]
     },
     "execution_count": 44,
     "metadata": {},
     "output_type": "execute_result"
    }
   ],
   "source": [
    "rendered_tools = render_text_description(tools) #여러 tool을 rendering 할 때는 리스트로 묶은 다음 넣어주어야 함\n",
    "\n",
    "#name과 arguments를 json blob 형태로 반환하는 프롬프트 생성\n",
    "system_prompt = f\"\"\"You are an assistant that has access to the following set of tools. Here are the names and descriptions for each tool:\n",
    "{rendered_tools}\n",
    "\n",
    "Given the user input, return the name and input of the tool to use. Return your response as a JSON blob with 'name' and 'arguments' keys.\"\"\"\n",
    "prompt = ChatPromptTemplate.from_messages(\n",
    "    [(\"system\", system_prompt), (\"user\", \"{input}\")]\n",
    ")\n",
    "\n",
    "# 프롬프트를 체인에 넣어서 실행\n",
    "chain_3 = prompt| model | JsonOutputParser() | tool_chain\n",
    "chain_3.invoke({\"input\": \"what's 3 add 1132\"})"
   ]
  },
  {
   "cell_type": "code",
   "execution_count": 42,
   "metadata": {},
   "outputs": [
    {
     "data": {
      "text/plain": [
       "ChatPromptTemplate(input_variables=['input'], messages=[SystemMessagePromptTemplate(prompt=PromptTemplate(input_variables=[], template=\"You are an assistant that has access to the following set of tools. Here are the names and descriptions for each tool:\\nadd: add(first_int: int, second_int: int) -> int - Add two integers.\\nexponentiate: exponentiate(base: int, exponent: int) -> int - Exponentiate the base to the exponent power.\\nmultiply: multiply(first_int: int, second_int: int) -> int - Multiply two integers together.\\n\\nGiven the user input, return the name and input of the tool to use. Return your response as a JSON blob with 'name' and 'arguments' keys.\")), HumanMessagePromptTemplate(prompt=PromptTemplate(input_variables=['input'], template='{input}'))])"
      ]
     },
     "execution_count": 42,
     "metadata": {},
     "output_type": "execute_result"
    }
   ],
   "source": [
    "prompt"
   ]
  },
  {
   "cell_type": "code",
   "execution_count": 40,
   "metadata": {},
   "outputs": [
    {
     "data": {
      "text/plain": [
       "'add: add(first_int: int, second_int: int) -> int - Add two integers.\\nexponentiate: exponentiate(base: int, exponent: int) -> int - Exponentiate the base to the exponent power.\\nmultiply: multiply(first_int: int, second_int: int) -> int - Multiply two integers together.'"
      ]
     },
     "execution_count": 40,
     "metadata": {},
     "output_type": "execute_result"
    }
   ],
   "source": [
    "rendered_tools"
   ]
  },
  {
   "cell_type": "markdown",
   "metadata": {},
   "source": [
    "# Tool들의 input도 살펴보자!\n",
    "- tool의 입력값을 살펴보는 것도 도움이 될 때가 있씀다 특히 오류 계속 날때...."
   ]
  },
  {
   "cell_type": "code",
   "execution_count": 45,
   "metadata": {},
   "outputs": [
    {
     "data": {
      "text/plain": [
       "{'name': 'add', 'arguments': {'first_int': 3, 'second_int': 1132}}"
      ]
     },
     "execution_count": 45,
     "metadata": {},
     "output_type": "execute_result"
    }
   ],
   "source": [
    "from langchain_core.runnables import RunnablePassthrough\n",
    "\n",
    "# 아래 코드와 주석처리된 코드는 같은 결과를 나타내지만 인자가 더 추가되는 경우 괄호를 쳐주는 게 나을듯?\n",
    "# RunnablePassthrough.assign은 파이프라인의 출력을 지정된 함수에 전달하는 역할을 합니다.\n",
    "chain_4 = prompt | model | JsonOutputParser() | RunnablePassthrough.assign(output=tool_chain)\n",
    "# chain_4 = (prompt | model | JsonOutputParser() | RunnablePassthrough.assign(output=tool_chain))\n",
    "\n",
    "chain_4.invoke({\"input\": \"what's 3 plus 1132\"})"
   ]
  },
  {
   "cell_type": "code",
   "execution_count": null,
   "metadata": {},
   "outputs": [],
   "source": []
  }
 ],
 "metadata": {
  "kernelspec": {
   "display_name": "Teddy",
   "language": "python",
   "name": "python3"
  },
  "language_info": {
   "codemirror_mode": {
    "name": "ipython",
    "version": 3
   },
   "file_extension": ".py",
   "mimetype": "text/x-python",
   "name": "python",
   "nbconvert_exporter": "python",
   "pygments_lexer": "ipython3",
   "version": "3.11.9"
  }
 },
 "nbformat": 4,
 "nbformat_minor": 2
}
