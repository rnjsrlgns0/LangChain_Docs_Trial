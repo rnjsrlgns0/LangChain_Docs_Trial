{
 "cells": [
  {
   "cell_type": "markdown",
   "metadata": {},
   "source": [
    "# Handling tool errors\n",
    "\n",
    "# - 모델을 사용하여 도구를 호출하는 것은 몇 가지 명백한 실패 가능성을 가지고 있습니다.\n",
    "# - 첫째, 모델은 파싱할 수 있는 출력을 반환해야 합니다.\n",
    "# - 둘째, 모델은 유효한 도구 인수를 반환해야 합니다.\n",
    "# - 이러한 실패 모드를 완화하기 위해 우리의 체인에 오류 처리를 구축할 수 있습니다."
   ]
  },
  {
   "cell_type": "code",
   "execution_count": 2,
   "metadata": {},
   "outputs": [
    {
     "data": {
      "text/plain": [
       "True"
      ]
     },
     "execution_count": 2,
     "metadata": {},
     "output_type": "execute_result"
    }
   ],
   "source": [
    "from dotenv import load_dotenv\n",
    "load_dotenv('../dot.env')"
   ]
  },
  {
   "cell_type": "code",
   "execution_count": null,
   "metadata": {},
   "outputs": [],
   "source": [
    "from langchain_openai import ChatOpenAI\n",
    "\n",
    "llm = ChatOpenAI(model=\"gpt-3.5-turbo-0125\")\n",
    "\n",
    "# Define tool\n",
    "from langchain_core.tools import tool\n",
    "\n",
    "\n",
    "@tool\n",
    "def complex_tool(int_arg: int, float_arg: float, dict_arg: dict) -> int:\n",
    "    \"\"\"Do something complex with a complex tool.\"\"\"\n",
    "    # 복잡한 도구를 사용하여 특정 작업을 수행하는 함수입니다.\n",
    "    \n",
    "    # 이 함수는 정수 인자(int_arg)와 부동 소수점 인자(float_arg)를 곱하여 결과를 반환합니다.\n",
    "    # dict_arg는 현재 사용되지 않지만, 향후 확장성을 위해 포함되어 있습니다.\n",
    "    \n",
    "    # Parameters:\n",
    "    # int_arg (int): 정수 인자, 계산에 사용됩니다.\n",
    "    # float_arg (float): 부동 소수점 인자, 계산에 사용됩니다.\n",
    "    # dict_arg (dict): 사전 인자, 현재는 사용되지 않습니다.\n",
    "    \n",
    "    # Returns:\n",
    "    # int: int_arg와 float_arg의 곱셈 결과를 정수로 반환합니다.\n",
    "    return int_arg * float_arg"
   ]
  }
 ],
 "metadata": {
  "kernelspec": {
   "display_name": "Teddy",
   "language": "python",
   "name": "python3"
  },
  "language_info": {
   "codemirror_mode": {
    "name": "ipython",
    "version": 3
   },
   "file_extension": ".py",
   "mimetype": "text/x-python",
   "name": "python",
   "nbconvert_exporter": "python",
   "pygments_lexer": "ipython3",
   "version": "3.11.9"
  }
 },
 "nbformat": 4,
 "nbformat_minor": 2
}
