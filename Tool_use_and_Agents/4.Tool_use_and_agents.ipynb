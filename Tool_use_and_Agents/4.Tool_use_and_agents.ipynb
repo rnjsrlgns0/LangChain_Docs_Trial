{
 "cells": [
  {
   "cell_type": "markdown",
   "metadata": {},
   "source": [
    "# 사전 정의된 tool 사용법 vs agent를 통한 사용법\n",
    "![planned_tool_use](imgs/Agent_tool_Chain.png)\n"
   ]
  },
  {
   "cell_type": "markdown",
   "metadata": {},
   "source": [
    "# agent를 가미한 tool 사용법 vs agent를 통한 사용법\n",
    "![planned_tool_use](imgs/Agent_tool_Agents.png)"
   ]
  },
  {
   "cell_type": "markdown",
   "metadata": {},
   "source": []
  }
 ],
 "metadata": {
  "language_info": {
   "name": "python"
  }
 },
 "nbformat": 4,
 "nbformat_minor": 2
}
