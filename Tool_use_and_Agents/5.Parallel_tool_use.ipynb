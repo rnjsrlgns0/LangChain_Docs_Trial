{
 "cells": [
  {
   "cell_type": "markdown",
   "metadata": {},
   "source": [
    "# tool의 병렬적 사용\n",
    "\n",
    "- 다중 도구를 사용하는 가이드에서 우리는 여러 도구 사이에서 선택하는 함수 호출 체인을 구축하는 방법을 보았습니다. \n",
    "- 2023년 가을에 출시된 OpenAI 모델과 같은 일부 모델들은 병렬 함수 호출을 지원하는데, 이는 단일 모델 호출에서 여러 함수(또는 동일한 함수를 여러 번)를 호출할 수 있게 해줍니다. \n",
    "- 이전에 다중 도구 가이드에서 사용된 체인은 실제로 이미 이 기능을 지원합니다.\n"
   ]
  },
  {
   "cell_type": "code",
   "execution_count": 2,
   "metadata": {},
   "outputs": [
    {
     "data": {
      "text/plain": [
       "True"
      ]
     },
     "execution_count": 2,
     "metadata": {},
     "output_type": "execute_result"
    }
   ],
   "source": [
    "from dotenv import load_dotenv\n",
    "load_dotenv('../dot.env')"
   ]
  },
  {
   "cell_type": "code",
   "execution_count": 3,
   "metadata": {},
   "outputs": [],
   "source": [
    "from langchain_core.tools import tool\n",
    "\n",
    "\n",
    "@tool\n",
    "def multiply(first_int: int, second_int: int) -> int:\n",
    "    \"\"\"Multiply two integers together.\"\"\"\n",
    "    return first_int * second_int\n",
    "\n",
    "\n",
    "@tool\n",
    "def add(first_int: int, second_int: int) -> int:\n",
    "    \"Add two integers.\"\n",
    "    return first_int + second_int\n",
    "\n",
    "\n",
    "@tool\n",
    "def exponentiate(base: int, exponent: int) -> int:\n",
    "    \"Exponentiate the base to the exponent power.\"\n",
    "    return base**exponent"
   ]
  },
  {
   "cell_type": "code",
   "execution_count": 4,
   "metadata": {},
   "outputs": [],
   "source": [
    "from langchain_openai import ChatOpenAI\n",
    "\n",
    "llm = ChatOpenAI(model=\"gpt-3.5-turbo-0125\")"
   ]
  },
  {
   "cell_type": "code",
   "execution_count": 7,
   "metadata": {},
   "outputs": [],
   "source": [
    "from operator import itemgetter\n",
    "from typing import Dict, List, Union\n",
    "\n",
    "from langchain_core.messages import AIMessage\n",
    "from langchain_core.runnables import (\n",
    "    Runnable,\n",
    "    # RunnableLambda,\n",
    "    # RunnableMap,\n",
    "    # RunnablePassthrough,\n",
    ")\n",
    "\n",
    "tools = [multiply, exponentiate, add]\n",
    "llm_with_tools = llm.bind_tools(tools)\n",
    "tool_map = {tool.name: tool for tool in tools}\n",
    "\n",
    "\n",
    "def call_tools(msg: AIMessage) -> Runnable:\n",
    "    \"\"\"Simple sequential tool calling helper.\"\"\"\n",
    "    tool_map = {tool.name: tool for tool in tools}\n",
    "    tool_calls = msg.tool_calls.copy()\n",
    "    for tool_call in tool_calls:\n",
    "        tool_call[\"output\"] = tool_map[tool_call[\"name\"]].invoke(tool_call[\"args\"])\n",
    "    return tool_calls\n",
    "\n",
    "\n",
    "chain = llm_with_tools | call_tools"
   ]
  },
  {
   "cell_type": "code",
   "execution_count": 8,
   "metadata": {},
   "outputs": [
    {
     "data": {
      "text/plain": [
       "[{'name': 'multiply',\n",
       "  'args': {'first_int': 23, 'second_int': 7},\n",
       "  'id': 'call_E3AknrxKDWgSVpvUJgwMSrNH',\n",
       "  'output': 161},\n",
       " {'name': 'multiply',\n",
       "  'args': {'first_int': 5, 'second_int': 18},\n",
       "  'id': 'call_oskMq1GEh3UTyRxhOKAfvtYn',\n",
       "  'output': 90},\n",
       " {'name': 'add',\n",
       "  'args': {'first_int': 1000000, 'second_int': 1000000000},\n",
       "  'id': 'call_FVPlQwIqjDRSM2GwOhCpgofq',\n",
       "  'output': 1001000000},\n",
       " {'name': 'exponentiate',\n",
       "  'args': {'base': 37, 'exponent': 3},\n",
       "  'id': 'call_EYkTecqeujQygkvF1J7eu3Th',\n",
       "  'output': 50653}]"
      ]
     },
     "execution_count": 8,
     "metadata": {},
     "output_type": "execute_result"
    }
   ],
   "source": [
    "chain.invoke(\n",
    "    \"What's 23 times 7, and what's five times 18 and add a million plus a billion and cube thirty-seven\"\n",
    ")"
   ]
  },
  {
   "cell_type": "code",
   "execution_count": null,
   "metadata": {},
   "outputs": [],
   "source": []
  }
 ],
 "metadata": {
  "kernelspec": {
   "display_name": "Teddy",
   "language": "python",
   "name": "python3"
  },
  "language_info": {
   "codemirror_mode": {
    "name": "ipython",
    "version": 3
   },
   "file_extension": ".py",
   "mimetype": "text/x-python",
   "name": "python",
   "nbconvert_exporter": "python",
   "pygments_lexer": "ipython3",
   "version": "3.11.9"
  }
 },
 "nbformat": 4,
 "nbformat_minor": 2
}
